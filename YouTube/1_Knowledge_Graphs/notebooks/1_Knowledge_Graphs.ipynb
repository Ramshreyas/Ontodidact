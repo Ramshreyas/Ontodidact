{
 "cells": [
  {
   "cell_type": "markdown",
   "metadata": {},
   "source": [
    "# 1. Knowledge Graphs\n",
    "\n",
    "[![Open In Colab](https://colab.research.google.com/assets/colab-badge.svg)](https://colab.research.google.com/github/Ramshreyas/Ontodidact/blob/main/YouTube/1_Knowledge_Graphs/notebooks/1_Knowledge_Graphs.ipynb)"
   ]
  },
  {
   "cell_type": "markdown",
   "metadata": {},
   "source": [
    "---\n",
    "\n",
    "### Setup & Imports"
   ]
  },
  {
   "cell_type": "code",
   "execution_count": 1,
   "metadata": {},
   "outputs": [
    {
     "name": "stdout",
     "output_type": "stream",
     "text": [
      "Requirement already satisfied: llama-index in /home/ramshreyas/Documents/Ontodidact/.conda/lib/python3.11/site-packages (0.10.42)\n",
      "Requirement already satisfied: networkx in /home/ramshreyas/Documents/Ontodidact/.conda/lib/python3.11/site-packages (3.3)\n",
      "Requirement already satisfied: matplotlib in /home/ramshreyas/Documents/Ontodidact/.conda/lib/python3.11/site-packages (3.9.0)\n",
      "Requirement already satisfied: pyvis in /home/ramshreyas/Documents/Ontodidact/.conda/lib/python3.11/site-packages (0.3.2)\n",
      "Requirement already satisfied: llama-index-graph-stores-neo4j in /home/ramshreyas/Documents/Ontodidact/.conda/lib/python3.11/site-packages (0.2.2)\n",
      "Requirement already satisfied: llama-index-embeddings-huggingface in /home/ramshreyas/Documents/Ontodidact/.conda/lib/python3.11/site-packages (0.2.1)\n",
      "Requirement already satisfied: llama-index-agent-openai<0.3.0,>=0.1.4 in /home/ramshreyas/Documents/Ontodidact/.conda/lib/python3.11/site-packages (from llama-index) (0.2.6)\n",
      "Requirement already satisfied: llama-index-cli<0.2.0,>=0.1.2 in /home/ramshreyas/Documents/Ontodidact/.conda/lib/python3.11/site-packages (from llama-index) (0.1.12)\n",
      "Requirement already satisfied: llama-index-core==0.10.42 in /home/ramshreyas/Documents/Ontodidact/.conda/lib/python3.11/site-packages (from llama-index) (0.10.42)\n",
      "Requirement already satisfied: llama-index-embeddings-openai<0.2.0,>=0.1.5 in /home/ramshreyas/Documents/Ontodidact/.conda/lib/python3.11/site-packages (from llama-index) (0.1.10)\n",
      "Requirement already satisfied: llama-index-indices-managed-llama-cloud<0.2.0,>=0.1.2 in /home/ramshreyas/Documents/Ontodidact/.conda/lib/python3.11/site-packages (from llama-index) (0.1.6)\n",
      "Requirement already satisfied: llama-index-legacy<0.10.0,>=0.9.48 in /home/ramshreyas/Documents/Ontodidact/.conda/lib/python3.11/site-packages (from llama-index) (0.9.48)\n",
      "Requirement already satisfied: llama-index-llms-openai<0.2.0,>=0.1.13 in /home/ramshreyas/Documents/Ontodidact/.conda/lib/python3.11/site-packages (from llama-index) (0.1.21)\n",
      "Requirement already satisfied: llama-index-multi-modal-llms-openai<0.2.0,>=0.1.3 in /home/ramshreyas/Documents/Ontodidact/.conda/lib/python3.11/site-packages (from llama-index) (0.1.6)\n",
      "Requirement already satisfied: llama-index-program-openai<0.2.0,>=0.1.3 in /home/ramshreyas/Documents/Ontodidact/.conda/lib/python3.11/site-packages (from llama-index) (0.1.6)\n",
      "Requirement already satisfied: llama-index-question-gen-openai<0.2.0,>=0.1.2 in /home/ramshreyas/Documents/Ontodidact/.conda/lib/python3.11/site-packages (from llama-index) (0.1.3)\n",
      "Requirement already satisfied: llama-index-readers-file<0.2.0,>=0.1.4 in /home/ramshreyas/Documents/Ontodidact/.conda/lib/python3.11/site-packages (from llama-index) (0.1.23)\n",
      "Requirement already satisfied: llama-index-readers-llama-parse<0.2.0,>=0.1.2 in /home/ramshreyas/Documents/Ontodidact/.conda/lib/python3.11/site-packages (from llama-index) (0.1.4)\n",
      "Requirement already satisfied: PyYAML>=6.0.1 in /home/ramshreyas/Documents/Ontodidact/.conda/lib/python3.11/site-packages (from llama-index-core==0.10.42->llama-index) (6.0.1)\n",
      "Requirement already satisfied: SQLAlchemy>=1.4.49 in /home/ramshreyas/Documents/Ontodidact/.conda/lib/python3.11/site-packages (from SQLAlchemy[asyncio]>=1.4.49->llama-index-core==0.10.42->llama-index) (2.0.30)\n",
      "Requirement already satisfied: aiohttp<4.0.0,>=3.8.6 in /home/ramshreyas/Documents/Ontodidact/.conda/lib/python3.11/site-packages (from llama-index-core==0.10.42->llama-index) (3.9.5)\n",
      "Requirement already satisfied: dataclasses-json in /home/ramshreyas/Documents/Ontodidact/.conda/lib/python3.11/site-packages (from llama-index-core==0.10.42->llama-index) (0.6.6)\n",
      "Requirement already satisfied: deprecated>=1.2.9.3 in /home/ramshreyas/Documents/Ontodidact/.conda/lib/python3.11/site-packages (from llama-index-core==0.10.42->llama-index) (1.2.14)\n",
      "Requirement already satisfied: dirtyjson<2.0.0,>=1.0.8 in /home/ramshreyas/Documents/Ontodidact/.conda/lib/python3.11/site-packages (from llama-index-core==0.10.42->llama-index) (1.0.8)\n",
      "Requirement already satisfied: fsspec>=2023.5.0 in /home/ramshreyas/Documents/Ontodidact/.conda/lib/python3.11/site-packages (from llama-index-core==0.10.42->llama-index) (2024.5.0)\n",
      "Requirement already satisfied: httpx in /home/ramshreyas/Documents/Ontodidact/.conda/lib/python3.11/site-packages (from llama-index-core==0.10.42->llama-index) (0.27.0)\n",
      "Requirement already satisfied: llamaindex-py-client<0.2.0,>=0.1.18 in /home/ramshreyas/Documents/Ontodidact/.conda/lib/python3.11/site-packages (from llama-index-core==0.10.42->llama-index) (0.1.19)\n",
      "Requirement already satisfied: nest-asyncio<2.0.0,>=1.5.8 in /home/ramshreyas/Documents/Ontodidact/.conda/lib/python3.11/site-packages (from llama-index-core==0.10.42->llama-index) (1.6.0)\n",
      "Requirement already satisfied: nltk<4.0.0,>=3.8.1 in /home/ramshreyas/Documents/Ontodidact/.conda/lib/python3.11/site-packages (from llama-index-core==0.10.42->llama-index) (3.8.1)\n",
      "Requirement already satisfied: numpy in /home/ramshreyas/Documents/Ontodidact/.conda/lib/python3.11/site-packages (from llama-index-core==0.10.42->llama-index) (1.26.4)\n",
      "Requirement already satisfied: openai>=1.1.0 in /home/ramshreyas/Documents/Ontodidact/.conda/lib/python3.11/site-packages (from llama-index-core==0.10.42->llama-index) (1.30.5)\n",
      "Requirement already satisfied: pandas in /home/ramshreyas/Documents/Ontodidact/.conda/lib/python3.11/site-packages (from llama-index-core==0.10.42->llama-index) (2.2.2)\n",
      "Requirement already satisfied: pillow>=9.0.0 in /home/ramshreyas/Documents/Ontodidact/.conda/lib/python3.11/site-packages (from llama-index-core==0.10.42->llama-index) (10.3.0)\n",
      "Requirement already satisfied: requests>=2.31.0 in /home/ramshreyas/Documents/Ontodidact/.conda/lib/python3.11/site-packages (from llama-index-core==0.10.42->llama-index) (2.32.3)\n",
      "Requirement already satisfied: tenacity<9.0.0,>=8.2.0 in /home/ramshreyas/Documents/Ontodidact/.conda/lib/python3.11/site-packages (from llama-index-core==0.10.42->llama-index) (8.3.0)\n",
      "Requirement already satisfied: tiktoken>=0.3.3 in /home/ramshreyas/Documents/Ontodidact/.conda/lib/python3.11/site-packages (from llama-index-core==0.10.42->llama-index) (0.7.0)\n",
      "Requirement already satisfied: tqdm<5.0.0,>=4.66.1 in /home/ramshreyas/Documents/Ontodidact/.conda/lib/python3.11/site-packages (from llama-index-core==0.10.42->llama-index) (4.66.4)\n",
      "Requirement already satisfied: typing-extensions>=4.5.0 in /home/ramshreyas/Documents/Ontodidact/.conda/lib/python3.11/site-packages (from llama-index-core==0.10.42->llama-index) (4.12.1)\n",
      "Requirement already satisfied: typing-inspect>=0.8.0 in /home/ramshreyas/Documents/Ontodidact/.conda/lib/python3.11/site-packages (from llama-index-core==0.10.42->llama-index) (0.9.0)\n",
      "Requirement already satisfied: wrapt in /home/ramshreyas/Documents/Ontodidact/.conda/lib/python3.11/site-packages (from llama-index-core==0.10.42->llama-index) (1.16.0)\n",
      "Requirement already satisfied: contourpy>=1.0.1 in /home/ramshreyas/Documents/Ontodidact/.conda/lib/python3.11/site-packages (from matplotlib) (1.2.1)\n",
      "Requirement already satisfied: cycler>=0.10 in /home/ramshreyas/Documents/Ontodidact/.conda/lib/python3.11/site-packages (from matplotlib) (0.12.1)\n",
      "Requirement already satisfied: fonttools>=4.22.0 in /home/ramshreyas/Documents/Ontodidact/.conda/lib/python3.11/site-packages (from matplotlib) (4.53.0)\n",
      "Requirement already satisfied: kiwisolver>=1.3.1 in /home/ramshreyas/Documents/Ontodidact/.conda/lib/python3.11/site-packages (from matplotlib) (1.4.5)\n",
      "Requirement already satisfied: packaging>=20.0 in /home/ramshreyas/Documents/Ontodidact/.conda/lib/python3.11/site-packages (from matplotlib) (24.0)\n",
      "Requirement already satisfied: pyparsing>=2.3.1 in /home/ramshreyas/Documents/Ontodidact/.conda/lib/python3.11/site-packages (from matplotlib) (3.1.2)\n",
      "Requirement already satisfied: python-dateutil>=2.7 in /home/ramshreyas/Documents/Ontodidact/.conda/lib/python3.11/site-packages (from matplotlib) (2.9.0)\n",
      "Requirement already satisfied: ipython>=5.3.0 in /home/ramshreyas/Documents/Ontodidact/.conda/lib/python3.11/site-packages (from pyvis) (8.25.0)\n",
      "Requirement already satisfied: jinja2>=2.9.6 in /home/ramshreyas/Documents/Ontodidact/.conda/lib/python3.11/site-packages (from pyvis) (3.1.4)\n",
      "Requirement already satisfied: jsonpickle>=1.4.1 in /home/ramshreyas/Documents/Ontodidact/.conda/lib/python3.11/site-packages (from pyvis) (3.0.4)\n",
      "Requirement already satisfied: neo4j<6.0.0,>=5.16.0 in /home/ramshreyas/Documents/Ontodidact/.conda/lib/python3.11/site-packages (from llama-index-graph-stores-neo4j) (5.20.0)\n",
      "Requirement already satisfied: huggingface-hub>=0.19.0 in /home/ramshreyas/Documents/Ontodidact/.conda/lib/python3.11/site-packages (from huggingface-hub[inference]>=0.19.0->llama-index-embeddings-huggingface) (0.23.2)\n",
      "Requirement already satisfied: sentence-transformers<3.0.0,>=2.6.1 in /home/ramshreyas/Documents/Ontodidact/.conda/lib/python3.11/site-packages (from llama-index-embeddings-huggingface) (2.7.0)\n",
      "Requirement already satisfied: filelock in /home/ramshreyas/Documents/Ontodidact/.conda/lib/python3.11/site-packages (from huggingface-hub>=0.19.0->huggingface-hub[inference]>=0.19.0->llama-index-embeddings-huggingface) (3.14.0)\n",
      "Requirement already satisfied: minijinja>=1.0 in /home/ramshreyas/Documents/Ontodidact/.conda/lib/python3.11/site-packages (from huggingface-hub[inference]>=0.19.0->llama-index-embeddings-huggingface) (2.0.1)\n",
      "Requirement already satisfied: decorator in /home/ramshreyas/Documents/Ontodidact/.conda/lib/python3.11/site-packages (from ipython>=5.3.0->pyvis) (5.1.1)\n",
      "Requirement already satisfied: jedi>=0.16 in /home/ramshreyas/Documents/Ontodidact/.conda/lib/python3.11/site-packages (from ipython>=5.3.0->pyvis) (0.19.1)\n",
      "Requirement already satisfied: matplotlib-inline in /home/ramshreyas/Documents/Ontodidact/.conda/lib/python3.11/site-packages (from ipython>=5.3.0->pyvis) (0.1.7)\n",
      "Requirement already satisfied: prompt-toolkit<3.1.0,>=3.0.41 in /home/ramshreyas/Documents/Ontodidact/.conda/lib/python3.11/site-packages (from ipython>=5.3.0->pyvis) (3.0.42)\n",
      "Requirement already satisfied: pygments>=2.4.0 in /home/ramshreyas/Documents/Ontodidact/.conda/lib/python3.11/site-packages (from ipython>=5.3.0->pyvis) (2.18.0)\n",
      "Requirement already satisfied: stack-data in /home/ramshreyas/Documents/Ontodidact/.conda/lib/python3.11/site-packages (from ipython>=5.3.0->pyvis) (0.6.2)\n",
      "Requirement already satisfied: traitlets>=5.13.0 in /home/ramshreyas/Documents/Ontodidact/.conda/lib/python3.11/site-packages (from ipython>=5.3.0->pyvis) (5.14.3)\n",
      "Requirement already satisfied: pexpect>4.3 in /home/ramshreyas/Documents/Ontodidact/.conda/lib/python3.11/site-packages (from ipython>=5.3.0->pyvis) (4.9.0)\n",
      "Requirement already satisfied: MarkupSafe>=2.0 in /home/ramshreyas/Documents/Ontodidact/.conda/lib/python3.11/site-packages (from jinja2>=2.9.6->pyvis) (2.1.5)\n",
      "Requirement already satisfied: beautifulsoup4<5.0.0,>=4.12.3 in /home/ramshreyas/Documents/Ontodidact/.conda/lib/python3.11/site-packages (from llama-index-readers-file<0.2.0,>=0.1.4->llama-index) (4.12.3)\n",
      "Requirement already satisfied: pypdf<5.0.0,>=4.0.1 in /home/ramshreyas/Documents/Ontodidact/.conda/lib/python3.11/site-packages (from llama-index-readers-file<0.2.0,>=0.1.4->llama-index) (4.2.0)\n",
      "Requirement already satisfied: striprtf<0.0.27,>=0.0.26 in /home/ramshreyas/Documents/Ontodidact/.conda/lib/python3.11/site-packages (from llama-index-readers-file<0.2.0,>=0.1.4->llama-index) (0.0.26)\n",
      "Requirement already satisfied: llama-parse<0.5.0,>=0.4.0 in /home/ramshreyas/Documents/Ontodidact/.conda/lib/python3.11/site-packages (from llama-index-readers-llama-parse<0.2.0,>=0.1.2->llama-index) (0.4.4)\n",
      "Requirement already satisfied: pytz in /home/ramshreyas/Documents/Ontodidact/.conda/lib/python3.11/site-packages (from neo4j<6.0.0,>=5.16.0->llama-index-graph-stores-neo4j) (2024.1)\n",
      "Requirement already satisfied: six>=1.5 in /home/ramshreyas/Documents/Ontodidact/.conda/lib/python3.11/site-packages (from python-dateutil>=2.7->matplotlib) (1.16.0)\n",
      "Requirement already satisfied: transformers<5.0.0,>=4.34.0 in /home/ramshreyas/Documents/Ontodidact/.conda/lib/python3.11/site-packages (from sentence-transformers<3.0.0,>=2.6.1->llama-index-embeddings-huggingface) (4.41.2)\n",
      "Requirement already satisfied: torch>=1.11.0 in /home/ramshreyas/Documents/Ontodidact/.conda/lib/python3.11/site-packages (from sentence-transformers<3.0.0,>=2.6.1->llama-index-embeddings-huggingface) (2.3.0)\n",
      "Requirement already satisfied: scikit-learn in /home/ramshreyas/Documents/Ontodidact/.conda/lib/python3.11/site-packages (from sentence-transformers<3.0.0,>=2.6.1->llama-index-embeddings-huggingface) (1.5.0)\n",
      "Requirement already satisfied: scipy in /home/ramshreyas/Documents/Ontodidact/.conda/lib/python3.11/site-packages (from sentence-transformers<3.0.0,>=2.6.1->llama-index-embeddings-huggingface) (1.13.1)\n",
      "Requirement already satisfied: aiosignal>=1.1.2 in /home/ramshreyas/Documents/Ontodidact/.conda/lib/python3.11/site-packages (from aiohttp<4.0.0,>=3.8.6->llama-index-core==0.10.42->llama-index) (1.3.1)\n",
      "Requirement already satisfied: attrs>=17.3.0 in /home/ramshreyas/Documents/Ontodidact/.conda/lib/python3.11/site-packages (from aiohttp<4.0.0,>=3.8.6->llama-index-core==0.10.42->llama-index) (23.2.0)\n",
      "Requirement already satisfied: frozenlist>=1.1.1 in /home/ramshreyas/Documents/Ontodidact/.conda/lib/python3.11/site-packages (from aiohttp<4.0.0,>=3.8.6->llama-index-core==0.10.42->llama-index) (1.4.1)\n",
      "Requirement already satisfied: multidict<7.0,>=4.5 in /home/ramshreyas/Documents/Ontodidact/.conda/lib/python3.11/site-packages (from aiohttp<4.0.0,>=3.8.6->llama-index-core==0.10.42->llama-index) (6.0.5)\n",
      "Requirement already satisfied: yarl<2.0,>=1.0 in /home/ramshreyas/Documents/Ontodidact/.conda/lib/python3.11/site-packages (from aiohttp<4.0.0,>=3.8.6->llama-index-core==0.10.42->llama-index) (1.9.4)\n",
      "Requirement already satisfied: soupsieve>1.2 in /home/ramshreyas/Documents/Ontodidact/.conda/lib/python3.11/site-packages (from beautifulsoup4<5.0.0,>=4.12.3->llama-index-readers-file<0.2.0,>=0.1.4->llama-index) (2.5)\n",
      "Requirement already satisfied: parso<0.9.0,>=0.8.3 in /home/ramshreyas/Documents/Ontodidact/.conda/lib/python3.11/site-packages (from jedi>=0.16->ipython>=5.3.0->pyvis) (0.8.4)\n",
      "Requirement already satisfied: pydantic>=1.10 in /home/ramshreyas/Documents/Ontodidact/.conda/lib/python3.11/site-packages (from llamaindex-py-client<0.2.0,>=0.1.18->llama-index-core==0.10.42->llama-index) (2.7.2)\n",
      "Requirement already satisfied: anyio in /home/ramshreyas/Documents/Ontodidact/.conda/lib/python3.11/site-packages (from httpx->llama-index-core==0.10.42->llama-index) (4.4.0)\n",
      "Requirement already satisfied: certifi in /home/ramshreyas/Documents/Ontodidact/.conda/lib/python3.11/site-packages (from httpx->llama-index-core==0.10.42->llama-index) (2024.6.2)\n",
      "Requirement already satisfied: httpcore==1.* in /home/ramshreyas/Documents/Ontodidact/.conda/lib/python3.11/site-packages (from httpx->llama-index-core==0.10.42->llama-index) (1.0.5)\n",
      "Requirement already satisfied: idna in /home/ramshreyas/Documents/Ontodidact/.conda/lib/python3.11/site-packages (from httpx->llama-index-core==0.10.42->llama-index) (3.7)\n",
      "Requirement already satisfied: sniffio in /home/ramshreyas/Documents/Ontodidact/.conda/lib/python3.11/site-packages (from httpx->llama-index-core==0.10.42->llama-index) (1.3.1)\n",
      "Requirement already satisfied: h11<0.15,>=0.13 in /home/ramshreyas/Documents/Ontodidact/.conda/lib/python3.11/site-packages (from httpcore==1.*->httpx->llama-index-core==0.10.42->llama-index) (0.14.0)\n",
      "Requirement already satisfied: click in /home/ramshreyas/Documents/Ontodidact/.conda/lib/python3.11/site-packages (from nltk<4.0.0,>=3.8.1->llama-index-core==0.10.42->llama-index) (8.1.7)\n",
      "Requirement already satisfied: joblib in /home/ramshreyas/Documents/Ontodidact/.conda/lib/python3.11/site-packages (from nltk<4.0.0,>=3.8.1->llama-index-core==0.10.42->llama-index) (1.4.2)\n",
      "Requirement already satisfied: regex>=2021.8.3 in /home/ramshreyas/Documents/Ontodidact/.conda/lib/python3.11/site-packages (from nltk<4.0.0,>=3.8.1->llama-index-core==0.10.42->llama-index) (2024.5.15)\n",
      "Requirement already satisfied: distro<2,>=1.7.0 in /home/ramshreyas/Documents/Ontodidact/.conda/lib/python3.11/site-packages (from openai>=1.1.0->llama-index-core==0.10.42->llama-index) (1.9.0)\n",
      "Requirement already satisfied: ptyprocess>=0.5 in /home/ramshreyas/Documents/Ontodidact/.conda/lib/python3.11/site-packages (from pexpect>4.3->ipython>=5.3.0->pyvis) (0.7.0)\n",
      "Requirement already satisfied: wcwidth in /home/ramshreyas/Documents/Ontodidact/.conda/lib/python3.11/site-packages (from prompt-toolkit<3.1.0,>=3.0.41->ipython>=5.3.0->pyvis) (0.2.13)\n",
      "Requirement already satisfied: charset-normalizer<4,>=2 in /home/ramshreyas/Documents/Ontodidact/.conda/lib/python3.11/site-packages (from requests>=2.31.0->llama-index-core==0.10.42->llama-index) (3.3.2)\n",
      "Requirement already satisfied: urllib3<3,>=1.21.1 in /home/ramshreyas/Documents/Ontodidact/.conda/lib/python3.11/site-packages (from requests>=2.31.0->llama-index-core==0.10.42->llama-index) (2.2.1)\n",
      "Requirement already satisfied: greenlet!=0.4.17 in /home/ramshreyas/Documents/Ontodidact/.conda/lib/python3.11/site-packages (from SQLAlchemy>=1.4.49->SQLAlchemy[asyncio]>=1.4.49->llama-index-core==0.10.42->llama-index) (3.0.3)\n",
      "Requirement already satisfied: sympy in /home/ramshreyas/Documents/Ontodidact/.conda/lib/python3.11/site-packages (from torch>=1.11.0->sentence-transformers<3.0.0,>=2.6.1->llama-index-embeddings-huggingface) (1.12.1)\n",
      "Requirement already satisfied: nvidia-cuda-nvrtc-cu12==12.1.105 in /home/ramshreyas/Documents/Ontodidact/.conda/lib/python3.11/site-packages (from torch>=1.11.0->sentence-transformers<3.0.0,>=2.6.1->llama-index-embeddings-huggingface) (12.1.105)\n",
      "Requirement already satisfied: nvidia-cuda-runtime-cu12==12.1.105 in /home/ramshreyas/Documents/Ontodidact/.conda/lib/python3.11/site-packages (from torch>=1.11.0->sentence-transformers<3.0.0,>=2.6.1->llama-index-embeddings-huggingface) (12.1.105)\n",
      "Requirement already satisfied: nvidia-cuda-cupti-cu12==12.1.105 in /home/ramshreyas/Documents/Ontodidact/.conda/lib/python3.11/site-packages (from torch>=1.11.0->sentence-transformers<3.0.0,>=2.6.1->llama-index-embeddings-huggingface) (12.1.105)\n",
      "Requirement already satisfied: nvidia-cudnn-cu12==8.9.2.26 in /home/ramshreyas/Documents/Ontodidact/.conda/lib/python3.11/site-packages (from torch>=1.11.0->sentence-transformers<3.0.0,>=2.6.1->llama-index-embeddings-huggingface) (8.9.2.26)\n",
      "Requirement already satisfied: nvidia-cublas-cu12==12.1.3.1 in /home/ramshreyas/Documents/Ontodidact/.conda/lib/python3.11/site-packages (from torch>=1.11.0->sentence-transformers<3.0.0,>=2.6.1->llama-index-embeddings-huggingface) (12.1.3.1)\n",
      "Requirement already satisfied: nvidia-cufft-cu12==11.0.2.54 in /home/ramshreyas/Documents/Ontodidact/.conda/lib/python3.11/site-packages (from torch>=1.11.0->sentence-transformers<3.0.0,>=2.6.1->llama-index-embeddings-huggingface) (11.0.2.54)\n",
      "Requirement already satisfied: nvidia-curand-cu12==10.3.2.106 in /home/ramshreyas/Documents/Ontodidact/.conda/lib/python3.11/site-packages (from torch>=1.11.0->sentence-transformers<3.0.0,>=2.6.1->llama-index-embeddings-huggingface) (10.3.2.106)\n",
      "Requirement already satisfied: nvidia-cusolver-cu12==11.4.5.107 in /home/ramshreyas/Documents/Ontodidact/.conda/lib/python3.11/site-packages (from torch>=1.11.0->sentence-transformers<3.0.0,>=2.6.1->llama-index-embeddings-huggingface) (11.4.5.107)\n",
      "Requirement already satisfied: nvidia-cusparse-cu12==12.1.0.106 in /home/ramshreyas/Documents/Ontodidact/.conda/lib/python3.11/site-packages (from torch>=1.11.0->sentence-transformers<3.0.0,>=2.6.1->llama-index-embeddings-huggingface) (12.1.0.106)\n",
      "Requirement already satisfied: nvidia-nccl-cu12==2.20.5 in /home/ramshreyas/Documents/Ontodidact/.conda/lib/python3.11/site-packages (from torch>=1.11.0->sentence-transformers<3.0.0,>=2.6.1->llama-index-embeddings-huggingface) (2.20.5)\n",
      "Requirement already satisfied: nvidia-nvtx-cu12==12.1.105 in /home/ramshreyas/Documents/Ontodidact/.conda/lib/python3.11/site-packages (from torch>=1.11.0->sentence-transformers<3.0.0,>=2.6.1->llama-index-embeddings-huggingface) (12.1.105)\n",
      "Requirement already satisfied: triton==2.3.0 in /home/ramshreyas/Documents/Ontodidact/.conda/lib/python3.11/site-packages (from torch>=1.11.0->sentence-transformers<3.0.0,>=2.6.1->llama-index-embeddings-huggingface) (2.3.0)\n",
      "Requirement already satisfied: nvidia-nvjitlink-cu12 in /home/ramshreyas/Documents/Ontodidact/.conda/lib/python3.11/site-packages (from nvidia-cusolver-cu12==11.4.5.107->torch>=1.11.0->sentence-transformers<3.0.0,>=2.6.1->llama-index-embeddings-huggingface) (12.5.40)\n",
      "Requirement already satisfied: tokenizers<0.20,>=0.19 in /home/ramshreyas/Documents/Ontodidact/.conda/lib/python3.11/site-packages (from transformers<5.0.0,>=4.34.0->sentence-transformers<3.0.0,>=2.6.1->llama-index-embeddings-huggingface) (0.19.1)\n",
      "Requirement already satisfied: safetensors>=0.4.1 in /home/ramshreyas/Documents/Ontodidact/.conda/lib/python3.11/site-packages (from transformers<5.0.0,>=4.34.0->sentence-transformers<3.0.0,>=2.6.1->llama-index-embeddings-huggingface) (0.4.3)\n",
      "Requirement already satisfied: mypy-extensions>=0.3.0 in /home/ramshreyas/Documents/Ontodidact/.conda/lib/python3.11/site-packages (from typing-inspect>=0.8.0->llama-index-core==0.10.42->llama-index) (1.0.0)\n",
      "Requirement already satisfied: marshmallow<4.0.0,>=3.18.0 in /home/ramshreyas/Documents/Ontodidact/.conda/lib/python3.11/site-packages (from dataclasses-json->llama-index-core==0.10.42->llama-index) (3.21.2)\n",
      "Requirement already satisfied: tzdata>=2022.7 in /home/ramshreyas/Documents/Ontodidact/.conda/lib/python3.11/site-packages (from pandas->llama-index-core==0.10.42->llama-index) (2024.1)\n",
      "Requirement already satisfied: threadpoolctl>=3.1.0 in /home/ramshreyas/Documents/Ontodidact/.conda/lib/python3.11/site-packages (from scikit-learn->sentence-transformers<3.0.0,>=2.6.1->llama-index-embeddings-huggingface) (3.5.0)\n",
      "Requirement already satisfied: executing>=1.2.0 in /home/ramshreyas/Documents/Ontodidact/.conda/lib/python3.11/site-packages (from stack-data->ipython>=5.3.0->pyvis) (2.0.1)\n",
      "Requirement already satisfied: asttokens>=2.1.0 in /home/ramshreyas/Documents/Ontodidact/.conda/lib/python3.11/site-packages (from stack-data->ipython>=5.3.0->pyvis) (2.4.1)\n",
      "Requirement already satisfied: pure-eval in /home/ramshreyas/Documents/Ontodidact/.conda/lib/python3.11/site-packages (from stack-data->ipython>=5.3.0->pyvis) (0.2.2)\n",
      "Requirement already satisfied: annotated-types>=0.4.0 in /home/ramshreyas/Documents/Ontodidact/.conda/lib/python3.11/site-packages (from pydantic>=1.10->llamaindex-py-client<0.2.0,>=0.1.18->llama-index-core==0.10.42->llama-index) (0.7.0)\n",
      "Requirement already satisfied: pydantic-core==2.18.3 in /home/ramshreyas/Documents/Ontodidact/.conda/lib/python3.11/site-packages (from pydantic>=1.10->llamaindex-py-client<0.2.0,>=0.1.18->llama-index-core==0.10.42->llama-index) (2.18.3)\n",
      "Requirement already satisfied: mpmath<1.4.0,>=1.1.0 in /home/ramshreyas/Documents/Ontodidact/.conda/lib/python3.11/site-packages (from sympy->torch>=1.11.0->sentence-transformers<3.0.0,>=2.6.1->llama-index-embeddings-huggingface) (1.3.0)\n",
      "Note: you may need to restart the kernel to use updated packages.\n"
     ]
    }
   ],
   "source": [
    "%pip install llama-index networkx matplotlib pyvis llama-index-graph-stores-neo4j llama-index-embeddings-huggingface"
   ]
  },
  {
   "cell_type": "code",
   "execution_count": 2,
   "metadata": {},
   "outputs": [],
   "source": [
    "# General imports\n",
    "import os\n",
    "from pprint import pprint\n",
    "import dotenv\n",
    "dotenv.load_dotenv()\n",
    "\n",
    "# Async\n",
    "import nest_asyncio\n",
    "nest_asyncio.apply()"
   ]
  },
  {
   "cell_type": "markdown",
   "metadata": {},
   "source": [
    "---\n",
    "\n",
    "### A toy knowledge graph\n",
    "\n",
    "A knowledge graphs represents **knowledge** in the form of *entities* and the **relationships** between them. Let's use the family tree of House Lannister from Game of Thrones as an example:"
   ]
  },
  {
   "cell_type": "code",
   "execution_count": 3,
   "metadata": {},
   "outputs": [],
   "source": [
    "# Import network visualitzation libraries\n",
    "import networkx as nx\n",
    "import matplotlib.pyplot as plt"
   ]
  },
  {
   "cell_type": "markdown",
   "metadata": {},
   "source": [
    "Create a directed graph"
   ]
  },
  {
   "cell_type": "code",
   "execution_count": 4,
   "metadata": {},
   "outputs": [],
   "source": [
    "G = nx.DiGraph()"
   ]
  },
  {
   "cell_type": "markdown",
   "metadata": {},
   "source": [
    "Add nodes for each member of the Lannister family - these are our **entities**"
   ]
  },
  {
   "cell_type": "code",
   "execution_count": 5,
   "metadata": {},
   "outputs": [],
   "source": [
    "characters = [\"Tywin\", \"Joanna\", \"Cersei\", \"Jaime\", \"Tyrion\", \"Joffrey\", \"Myrcella\", \"Tommen\"]\n",
    "G.add_nodes_from(characters)"
   ]
  },
  {
   "cell_type": "markdown",
   "metadata": {},
   "source": [
    "Now let's add their **relationships**. \n",
    "\n",
    "Here we are only considering parent-child relationships, so this would essentially represent a family tree."
   ]
  },
  {
   "cell_type": "code",
   "execution_count": 6,
   "metadata": {},
   "outputs": [],
   "source": [
    "# Adding relationships\n",
    "relationships = [\n",
    "    (\"Tywin\", \"Cersei\"), (\"Joanna\", \"Cersei\"),\n",
    "    (\"Tywin\", \"Jaime\"), (\"Joanna\", \"Jaime\"),\n",
    "    (\"Tywin\", \"Tyrion\"), (\"Joanna\", \"Tyrion\"),\n",
    "    (\"Cersei\", \"Joffrey\"), (\"Jaime\", \"Joffrey\"),\n",
    "    (\"Cersei\", \"Myrcella\"), (\"Jaime\", \"Myrcella\"),\n",
    "    (\"Cersei\", \"Tommen\"), (\"Jaime\", \"Tommen\")\n",
    "]\n",
    "G.add_edges_from(relationships)"
   ]
  },
  {
   "cell_type": "markdown",
   "metadata": {},
   "source": [
    "Visualize the House Lannister"
   ]
  },
  {
   "cell_type": "code",
   "execution_count": 7,
   "metadata": {},
   "outputs": [
    {
     "data": {
      "image/png": "[encoded data removed]",
      "text/plain": [
       "<Figure size 640x480 with 1 Axes>"
      ]
     },
     "metadata": {},
     "output_type": "display_data"
    }
   ],
   "source": [
    "# Adding relationships\n",
    "relationships = [\n",
    "    (\"Tywin\", \"Cersei\"), (\"Joanna\", \"Cersei\"),\n",
    "    (\"Tywin\", \"Jaime\"), (\"Joanna\", \"Jaime\"),\n",
    "    (\"Tywin\", \"Tyrion\"), (\"Joanna\", \"Tyrion\"),\n",
    "    (\"Cersei\", \"Joffrey\"), (\"Jaime\", \"Joffrey\"),\n",
    "    (\"Cersei\", \"Myrcella\"), (\"Jaime\", \"Myrcella\"),\n",
    "    (\"Cersei\", \"Tommen\"), (\"Jaime\", \"Tommen\")\n",
    "]\n",
    "G.add_edges_from(relationships)\n",
    "\n",
    "# Manually set positions for a family tree layout\n",
    "pos = {\n",
    "    \"Tywin\": (0.5, 1),\n",
    "    \"Joanna\": (1.5, 1),\n",
    "    \"Cersei\": (0, 0.5),\n",
    "    \"Jaime\": (1, 0.5),\n",
    "    \"Tyrion\": (2, 0.5),\n",
    "    \"Joffrey\": (0, 0),\n",
    "    \"Myrcella\": (1, 0),\n",
    "    \"Tommen\": (2, 0)\n",
    "}\n",
    "\n",
    "# Draw nodes and edges\n",
    "nx.draw(G, pos, with_labels=True, node_color='lightblue', edge_color='gray', node_size=3000, font_size=10, font_color=\"black\")\n",
    "\n",
    "plt.title('Lannister Family Tree')\n",
    "plt.axis('off')  # Turn off the axis\n",
    "plt.show()"
   ]
  },
  {
   "cell_type": "markdown",
   "metadata": {},
   "source": [
    "So this family tree represents a particular piece of knowledge. \n",
    "\n",
    "It contains *explicit* knowledge - that Jaime (illegitimately) fathered Joffrey.\n",
    "\n",
    "It also contains *implicit* knowledge - that Cersei and Jaime are siblings, which is not directly represented as a relationship between the entities - more on this later.\n",
    "\n",
    "In this visualization, entities are represented by nodes or *verteces*, and relationships are represented by the lines or *edges* connecting them.\n",
    "\n",
    "This is a simple knowledge graph."
   ]
  },
  {
   "cell_type": "markdown",
   "metadata": {},
   "source": [
    "---\n",
    "\n",
    "### LLMs can extract knowledge graphs directly from text\n",
    "\n",
    "Now I'm sure you'll agree that was a bit tedious. Listing our relationships explicitly and building knowledge graphs can get overwhelming very quickly. \n",
    "\n",
    "The good news is that LLMs and LlamaIndex can help! This is where things get really interesting. \n",
    "\n",
    "Let's load a text description of house Lannister, which we will use as a source to create a knowledge graph without OpenAI and LlamaIndex."
   ]
  },
  {
   "cell_type": "code",
   "execution_count": 8,
   "metadata": {},
   "outputs": [],
   "source": [
    "from llama_index.core import SimpleDirectoryReader\n",
    "\n",
    "documents = SimpleDirectoryReader(\"./data/\").load_data()"
   ]
  },
  {
   "cell_type": "code",
   "execution_count": 9,
   "metadata": {},
   "outputs": [
    {
     "name": "stdout",
     "output_type": "stream",
     "text": [
      "('The House of Lannister stands as a pillar of power and influence in '\n",
      " 'Westeros, with Tywin Lannister at its head. \\n'\n",
      " 'Tywin, the patriarch of the Lannister family, was married to Joanna '\n",
      " 'Lannister. Both hailing from the same noble \\n'\n",
      " \"house, their union reinforced the family's lineage and status. Joanna \"\n",
      " 'Lannister bore three children to Tywin: \\n'\n",
      " 'Cersei Lannister, Jaime Lannister, and Tyrion Lannister.\\n'\n",
      " '\\n'\n",
      " 'Tywin Lannister is the father of Cersei Lannister, Jaime Lannister, and '\n",
      " 'Tyrion Lannister. Cersei, the eldest of \\n'\n",
      " \"Tywin's children, has established herself as a cunning and ambitious leader. \"\n",
      " 'Her brother, Jaime Lannister, known \\n'\n",
      " 'as the Kingslayer, shares not only a twin bond with Cersei but also a '\n",
      " 'controversially close relationship. The \\n'\n",
      " 'youngest sibling, Tyrion, often finds himself in conflict with Tywin, '\n",
      " 'primarily due to the circumstances surrounding \\n'\n",
      " 'his birth, which tragically resulted in the death of Joanna Lannister.\\n'\n",
      " '\\n'\n",
      " 'Cersei Lannister is the mother of three children: Joffrey Baratheon, '\n",
      " 'Myrcella Baratheon, and Tommen Baratheon. \\n'\n",
      " 'Official narratives claim Robert Baratheon as the father, yet persistent '\n",
      " 'rumors suggest Jaime Lannister as the \\n'\n",
      " 'biological father to all three children. Joffrey, her eldest, reigned as '\n",
      " 'king and was notorious for his cruel \\n'\n",
      " 'temperament until his unexpected demise. Following him, the younger '\n",
      " 'siblings, Myrcella and Tommen, are noted for \\n'\n",
      " 'their more amiable natures, though their lives are no less tangled in the '\n",
      " 'web of political intrigue.\\n'\n",
      " '\\n'\n",
      " 'As each Lannister navigates the treacherous waters of Westerosi politics, '\n",
      " 'they reinforce the House\\'s motto, \"Hear \\n'\n",
      " 'Me Roar,\" whether through strategic alliances or fierce familial loyalty. '\n",
      " 'The legacy of Tywin and Joanna Lannister \\n'\n",
      " 'continues to shape the fate of their descendants and the broader political '\n",
      " 'landscape.')\n"
     ]
    }
   ],
   "source": [
    "pprint(documents[0].get_text())"
   ]
  },
  {
   "cell_type": "markdown",
   "metadata": {},
   "source": [
    "Construct the knowledge graph index for the loaded documents using PropertyGraphIndex"
   ]
  },
  {
   "cell_type": "code",
   "execution_count": 10,
   "metadata": {},
   "outputs": [],
   "source": [
    "from typing import Literal\n",
    "from llama_index.llms.openai import OpenAI\n",
    "from llama_index.core.indices.property_graph import SchemaLLMPathExtractor\n",
    "\n",
    "# best practice to use upper-case\n",
    "entities = Literal[\"PERSON\"]\n",
    "relations = Literal[\"CHILD_OF\", 'PARENT_OF', \"SIBLING_OF\", \"SPOUSE_OF\"]\n",
    "\n",
    "# define which entities can have which relations\n",
    "validation_schema = {\n",
    "    \"PERSON\": [\"CHILD_OF\", \"PARENT_OF\", \"SIBLING_OF\", \"SPOUSE_OF\"],\n",
    "}\n",
    "\n",
    "kg_extractor = SchemaLLMPathExtractor(\n",
    "    llm=OpenAI(model=\"gpt-3.5-turbo\", temperature=0.3),\n",
    "    possible_entities=entities,\n",
    "    possible_relations=relations,\n",
    "    kg_validation_schema=validation_schema,\n",
    "    # if false, allows for values outside of the schema\n",
    "    # useful for using the schema as a suggestion\n",
    "    strict=True,\n",
    ")"
   ]
  },
  {
   "cell_type": "markdown",
   "metadata": {},
   "source": [
    "TODO"
   ]
  },
  {
   "cell_type": "code",
   "execution_count": 11,
   "metadata": {},
   "outputs": [],
   "source": [
    "from llama_index.graph_stores.neo4j import Neo4jPGStore\n",
    "\n",
    "graph_store = Neo4jPGStore(\n",
    "    username=\"neo4j\",\n",
    "    password=os.getenv(\"NEO4J_PASSWORD\"),\n",
    "    url=\"bolt://localhost:7687\",\n",
    ")\n",
    "vec_store = None"
   ]
  },
  {
   "cell_type": "markdown",
   "metadata": {},
   "source": [
    "TODO"
   ]
  },
  {
   "cell_type": "code",
   "execution_count": 12,
   "metadata": {},
   "outputs": [
    {
     "data": {
      "application/vnd.jupyter.widget-view+json": {
       "model_id": "ba91087c1eb44dd18238bbf5e025e2d3",
       "version_major": 2,
       "version_minor": 0
      },
      "text/plain": [
       "modules.json:   0%|          | 0.00/349 [00:00<?, ?B/s]"
      ]
     },
     "metadata": {},
     "output_type": "display_data"
    },
    {
     "data": {
      "application/vnd.jupyter.widget-view+json": {
       "model_id": "5a7534a775e64f61bd8cc3e63a09dd47",
       "version_major": 2,
       "version_minor": 0
      },
      "text/plain": [
       "config_sentence_transformers.json:   0%|          | 0.00/124 [00:00<?, ?B/s]"
      ]
     },
     "metadata": {},
     "output_type": "display_data"
    },
    {
     "data": {
      "application/vnd.jupyter.widget-view+json": {
       "model_id": "d5f8bac1c82f49e5a53c3d2ae4707cc9",
       "version_major": 2,
       "version_minor": 0
      },
      "text/plain": [
       "README.md:   0%|          | 0.00/94.8k [00:00<?, ?B/s]"
      ]
     },
     "metadata": {},
     "output_type": "display_data"
    },
    {
     "data": {
      "application/vnd.jupyter.widget-view+json": {
       "model_id": "0a2b9bb72f8b4ad7b3df76f4ee86a3d0",
       "version_major": 2,
       "version_minor": 0
      },
      "text/plain": [
       "sentence_bert_config.json:   0%|          | 0.00/52.0 [00:00<?, ?B/s]"
      ]
     },
     "metadata": {},
     "output_type": "display_data"
    },
    {
     "name": "stderr",
     "output_type": "stream",
     "text": [
      "/home/ramshreyas/Documents/Ontodidact/.conda/lib/python3.11/site-packages/huggingface_hub/file_download.py:1132: FutureWarning: `resume_download` is deprecated and will be removed in version 1.0.0. Downloads always resume when possible. If you want to force a new download, use `force_download=True`.\n",
      "  warnings.warn(\n"
     ]
    },
    {
     "data": {
      "application/vnd.jupyter.widget-view+json": {
       "model_id": "065d78c603514c0c886594ff9773e37d",
       "version_major": 2,
       "version_minor": 0
      },
      "text/plain": [
       "config.json:   0%|          | 0.00/743 [00:00<?, ?B/s]"
      ]
     },
     "metadata": {},
     "output_type": "display_data"
    },
    {
     "data": {
      "application/vnd.jupyter.widget-view+json": {
       "model_id": "448f2a1675f340748a990daf9510e59c",
       "version_major": 2,
       "version_minor": 0
      },
      "text/plain": [
       "model.safetensors:   0%|          | 0.00/133M [00:00<?, ?B/s]"
      ]
     },
     "metadata": {},
     "output_type": "display_data"
    },
    {
     "data": {
      "application/vnd.jupyter.widget-view+json": {
       "model_id": "dafdef6c9ecf4e07940c7db7231f7b14",
       "version_major": 2,
       "version_minor": 0
      },
      "text/plain": [
       "tokenizer_config.json:   0%|          | 0.00/366 [00:00<?, ?B/s]"
      ]
     },
     "metadata": {},
     "output_type": "display_data"
    },
    {
     "data": {
      "application/vnd.jupyter.widget-view+json": {
       "model_id": "52a90f2d189c4a2bb28a8c601bc55e0f",
       "version_major": 2,
       "version_minor": 0
      },
      "text/plain": [
       "vocab.txt:   0%|          | 0.00/232k [00:00<?, ?B/s]"
      ]
     },
     "metadata": {},
     "output_type": "display_data"
    },
    {
     "data": {
      "application/vnd.jupyter.widget-view+json": {
       "model_id": "d378906a78be428fb4f1f2a1415c5ef3",
       "version_major": 2,
       "version_minor": 0
      },
      "text/plain": [
       "tokenizer.json:   0%|          | 0.00/711k [00:00<?, ?B/s]"
      ]
     },
     "metadata": {},
     "output_type": "display_data"
    },
    {
     "data": {
      "application/vnd.jupyter.widget-view+json": {
       "model_id": "5d46c509d9a04fe084ad7f4b3e6e3614",
       "version_major": 2,
       "version_minor": 0
      },
      "text/plain": [
       "special_tokens_map.json:   0%|          | 0.00/125 [00:00<?, ?B/s]"
      ]
     },
     "metadata": {},
     "output_type": "display_data"
    },
    {
     "data": {
      "application/vnd.jupyter.widget-view+json": {
       "model_id": "bccdb28ff48843a185db96e387f2bb27",
       "version_major": 2,
       "version_minor": 0
      },
      "text/plain": [
       "1_Pooling/config.json:   0%|          | 0.00/190 [00:00<?, ?B/s]"
      ]
     },
     "metadata": {},
     "output_type": "display_data"
    },
    {
     "data": {
      "application/vnd.jupyter.widget-view+json": {
       "model_id": "706839977f0343bbb15ae2aa338b453e",
       "version_major": 2,
       "version_minor": 0
      },
      "text/plain": [
       "Parsing nodes:   0%|          | 0/1 [00:00<?, ?it/s]"
      ]
     },
     "metadata": {},
     "output_type": "display_data"
    },
    {
     "name": "stderr",
     "output_type": "stream",
     "text": [
      "Extracting paths from text with schema: 100%|██████████| 1/1 [00:08<00:00,  8.79s/it]\n",
      "Generating embeddings: 100%|██████████| 1/1 [00:00<00:00,  2.48it/s]\n",
      "Generating embeddings: 100%|██████████| 3/3 [00:00<00:00, 38.95it/s]\n"
     ]
    }
   ],
   "source": [
    "from llama_index.core import PropertyGraphIndex\n",
    "from llama_index.embeddings.huggingface import HuggingFaceEmbedding\n",
    "\n",
    "index = PropertyGraphIndex.from_documents(\n",
    "    documents,\n",
    "    kg_extractors=[kg_extractor],\n",
    "    embed_model=HuggingFaceEmbedding(model_name=\"BAAI/bge-small-en-v1.5\"),\n",
    "    property_graph_store=graph_store,\n",
    "    vector_store=vec_store,\n",
    "    show_progress=True,\n",
    ")"
   ]
  },
  {
   "cell_type": "markdown",
   "metadata": {},
   "source": [
    "---\n",
    "\n",
    "### Querying the knowledge graph"
   ]
  },
  {
   "cell_type": "code",
   "execution_count": null,
   "metadata": {},
   "outputs": [],
   "source": []
  },
  {
   "cell_type": "markdown",
   "metadata": {},
   "source": [
    "---\n",
    "\n",
    "### Viewing the knowledge graph with Neo4j (is awesome)"
   ]
  },
  {
   "cell_type": "code",
   "execution_count": null,
   "metadata": {},
   "outputs": [],
   "source": []
  }
 ],
 "metadata": {
  "kernelspec": {
   "display_name": "Python 3",
   "language": "python",
   "name": "python3"
  },
  "language_info": {
   "codemirror_mode": {
    "name": "ipython",
    "version": 3
   },
   "file_extension": ".py",
   "mimetype": "text/x-python",
   "name": "python",
   "nbconvert_exporter": "python",
   "pygments_lexer": "ipython3",
   "version": "3.11.9"
  }
 },
 "nbformat": 4,
 "nbformat_minor": 2
}
